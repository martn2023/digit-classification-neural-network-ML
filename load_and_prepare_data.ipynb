{
 "cells": [
  {
   "cell_type": "markdown",
   "id": "1f6d5345-7a66-4b14-9fa0-f7178d6c8c41",
   "metadata": {},
   "source": [
    "# Fetch raw data\n",
    "MNSIT is an org that put out 70K pictures of handwritten numerical digits. It's understood in the ML community that saying MNIST refers to the dataset, because this is an industry-standard beginner's exercise, like the \"Hello, World\" of ML.\n",
    "\n",
    "If we successfully download the images, the keys will look like:\n",
    "dict_keys(['data', 'target', 'feature_names', 'DESCR', 'details','categories', 'url'])"
   ]
  },
  {
   "cell_type": "code",
   "execution_count": null,
   "id": "82097277-c037-4f24-ae8f-6d786f8228f9",
   "metadata": {},
   "outputs": [],
   "source": [
    "from sklearn.datasets import fetch_openml # this is tool for fetching named datasets\n",
    "mnist = fetch_openml('mnist_784', version=1) #need to download 15 megabytes of compressed images (55 mb) once, then scikit will cache it automatically\n",
    "mnist.keys()"
   ]
  },
  {
   "cell_type": "code",
   "execution_count": null,
   "id": "33d6767e-5c46-4025-b328-957c70f11690",
   "metadata": {},
   "outputs": [],
   "source": []
  },
  {
   "cell_type": "code",
   "execution_count": null,
   "id": "88bdcf85-090b-4b3b-9a30-75926ee18b32",
   "metadata": {},
   "outputs": [],
   "source": []
  },
  {
   "cell_type": "code",
   "execution_count": null,
   "id": "a0a52196-fe81-43db-84cb-ace8a73b53ec",
   "metadata": {},
   "outputs": [],
   "source": []
  },
  {
   "cell_type": "code",
   "execution_count": null,
   "id": "416cb967-667c-480e-aefd-cb8b170ccf82",
   "metadata": {},
   "outputs": [],
   "source": []
  },
  {
   "cell_type": "code",
   "execution_count": null,
   "id": "86b8fd69-f6c7-4f41-8eb1-f295cce07d1c",
   "metadata": {},
   "outputs": [],
   "source": []
  },
  {
   "cell_type": "code",
   "execution_count": null,
   "id": "aceff87d-5e66-4650-8264-13346b16cf5a",
   "metadata": {},
   "outputs": [],
   "source": []
  },
  {
   "cell_type": "code",
   "execution_count": null,
   "id": "6cbac876-1f3f-4b42-9371-0cbed1b2ab08",
   "metadata": {},
   "outputs": [],
   "source": []
  },
  {
   "cell_type": "code",
   "execution_count": null,
   "id": "32a62dca-a285-4a95-9bd8-8567e397c25e",
   "metadata": {},
   "outputs": [],
   "source": []
  },
  {
   "cell_type": "code",
   "execution_count": null,
   "id": "52eb6836-1aa4-4e9b-9c45-ce5525172c57",
   "metadata": {},
   "outputs": [],
   "source": []
  },
  {
   "cell_type": "code",
   "execution_count": null,
   "id": "4249d35b-7305-4c52-aaf6-779e1ad5d82b",
   "metadata": {},
   "outputs": [],
   "source": []
  },
  {
   "cell_type": "code",
   "execution_count": null,
   "id": "12830dd0-32ea-4c37-813b-9867795984b2",
   "metadata": {},
   "outputs": [],
   "source": []
  },
  {
   "cell_type": "code",
   "execution_count": null,
   "id": "78f09d77-baae-4793-9ba1-fbae646e9270",
   "metadata": {},
   "outputs": [],
   "source": []
  },
  {
   "cell_type": "code",
   "execution_count": null,
   "id": "ffeb74e5-534c-4aa0-bb5d-f3ed41a0d714",
   "metadata": {},
   "outputs": [],
   "source": []
  },
  {
   "cell_type": "code",
   "execution_count": null,
   "id": "817c68cc-2f53-4e11-ad88-8dd68230abe8",
   "metadata": {},
   "outputs": [],
   "source": []
  },
  {
   "cell_type": "code",
   "execution_count": null,
   "id": "4d9b6050-1e22-4440-893d-f5cf4fc7925b",
   "metadata": {},
   "outputs": [],
   "source": []
  },
  {
   "cell_type": "code",
   "execution_count": null,
   "id": "a85ee501-080f-4ae4-819f-4cb311b6e32f",
   "metadata": {},
   "outputs": [],
   "source": []
  },
  {
   "cell_type": "code",
   "execution_count": null,
   "id": "956e739a-5694-4199-90f9-0f9b570d530e",
   "metadata": {},
   "outputs": [],
   "source": []
  }
 ],
 "metadata": {
  "kernelspec": {
   "display_name": "Python 3 (ipykernel)",
   "language": "python",
   "name": "python3"
  },
  "language_info": {
   "codemirror_mode": {
    "name": "ipython",
    "version": 3
   },
   "file_extension": ".py",
   "mimetype": "text/x-python",
   "name": "python",
   "nbconvert_exporter": "python",
   "pygments_lexer": "ipython3",
   "version": "3.10.11"
  }
 },
 "nbformat": 4,
 "nbformat_minor": 5
}
